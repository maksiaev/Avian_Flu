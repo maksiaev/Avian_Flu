{
 "cells": [
  {
   "cell_type": "code",
   "execution_count": 153,
   "metadata": {},
   "outputs": [],
   "source": [
    "# Have user type in username and password\n",
    "\n",
    "username = input(\"Username: \")\n",
    "password = input(\"Password: \")\n",
    "browser = input(\"Browser: \")\n",
    "# hashed_password = hashlib.sha256(password.encode()).hexdigest()"
   ]
  },
  {
   "cell_type": "code",
   "execution_count": null,
   "metadata": {},
   "outputs": [],
   "source": [
    "# Opening the website\n",
    "\n",
    "# import requests\n",
    "# from bs4 import BeautifulSoup\n",
    "from selenium import webdriver\n",
    "from selenium.webdriver.common.keys import Keys\n",
    "from selenium.webdriver.common.by import By\n",
    "from selenium.webdriver.support.ui import Select\n",
    "from selenium.webdriver.support.ui import WebDriverWait\n",
    "from selenium.webdriver.common.action_chains import ActionChains\n",
    "from selenium.webdriver.support import expected_conditions as EC\n",
    "import time \n",
    "\n",
    "def open_gisaid(browser=\"edge\", username=username, password=password):\n",
    "\n",
    "    if browser==\"firefox\":\n",
    "        # If you want to open Firefox\n",
    "        driver = webdriver.Firefox()\n",
    "    elif browser==\"chrome\": # if Chrome...\n",
    "        driver = webdriver.Chrome()\n",
    "    else: # Edge, probably\n",
    "        driver = webdriver.Edge()\n",
    "\n",
    "    # Requested URL\n",
    "    driver.get(\"https://www.epicov.org/epi3/frontend#\")\n",
    "\n",
    "    # Wait for it to load, otherwise it won't work\n",
    "    time.sleep(2)\n",
    "\n",
    "    # Input username and password\n",
    "    username_field = driver.find_element(By.NAME, \"login\")\n",
    "    password_field = driver.find_element(By.NAME, \"password\")\n",
    "    submit_button = driver.find_element(By.CLASS_NAME, \"form_button_submit\")\n",
    "    username_field.send_keys(username)\n",
    "    password_field.send_keys(password)\n",
    "\n",
    "    # Wait for it to load\n",
    "    time.sleep(2)\n",
    "\n",
    "    submit_button.click()\n",
    "\n",
    "    # Wait for it to load again\n",
    "    time.sleep(2)\n",
    "\n",
    "    # Find the correct tab\n",
    "    driver.find_element(By.XPATH, \"//*[contains(text(), 'EpiPox™')]\").click()\n",
    "\n",
    "    time.sleep(2)\n",
    "\n",
    "    # Search tab \n",
    "    driver.find_element(By.XPATH, \"//*[contains(text(), 'Search')]\").click()"
   ]
  },
  {
   "cell_type": "code",
   "execution_count": 155,
   "metadata": {},
   "outputs": [],
   "source": [
    "# Search and download relevant data\n",
    "\n",
    "\n",
    "\n",
    "# driver.switch_to.frame(\"frameName.0.child\")\n",
    "\n",
    "# driver.implicitly_wait(10)\n",
    "\n",
    "# epipox_tab = driver.find_element(By.LINK_TEXT, \"EpiPox™\")\n",
    "\n",
    "# for tab in range(4):\n",
    "#     main_nav.send_keys(Keys.TAB)\n",
    "\n",
    "# main_nav.send_keys(Keys.ENTER)\n",
    "\n",
    "# time.sleep(2)\n",
    "\n",
    "# epipox_tab.click()\n",
    "\n",
    "# function onclick(event) {\n",
    "#   sys.call('c_st4hhy_2b1', 'Go', new Object({\n",
    "#     'page': 'mpox'\n",
    "#   }));\n",
    "# }"
   ]
  },
  {
   "cell_type": "code",
   "execution_count": 156,
   "metadata": {},
   "outputs": [],
   "source": [
    "open_gisaid(browser, username, password)"
   ]
  },
  {
   "cell_type": "code",
   "execution_count": null,
   "metadata": {},
   "outputs": [],
   "source": []
  }
 ],
 "metadata": {
  "kernelspec": {
   "display_name": "Python 3",
   "language": "python",
   "name": "python3"
  },
  "language_info": {
   "codemirror_mode": {
    "name": "ipython",
    "version": 3
   },
   "file_extension": ".py",
   "mimetype": "text/x-python",
   "name": "python",
   "nbconvert_exporter": "python",
   "pygments_lexer": "ipython3",
   "version": "3.11.5"
  }
 },
 "nbformat": 4,
 "nbformat_minor": 2
}
