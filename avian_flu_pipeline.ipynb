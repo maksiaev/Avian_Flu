{
 "cells": [
  {
   "cell_type": "code",
   "execution_count": null,
   "metadata": {},
   "outputs": [],
   "source": [
    "# Have user type in username and password\n",
    "import hashlib\n",
    "\n",
    "username = input(\"Username: \")\n",
    "password = input(\"Password: \")\n",
    "# hashed_password = hashlib.sha256(password.encode()).hexdigest()"
   ]
  },
  {
   "cell_type": "code",
   "execution_count": null,
   "metadata": {},
   "outputs": [],
   "source": [
    "# Opening the website\n",
    "\n",
    "# import requests\n",
    "# from bs4 import BeautifulSoup\n",
    "from selenium import webdriver\n",
    "from selenium.webdriver.common.keys import Keys\n",
    "from selenium.webdriver.common.by import By\n",
    "from selenium.webdriver.support.ui import Select\n",
    "# from selenium.webdriver.support.ui import WebDriverWait\n",
    "from selenium.webdriver.common.action_chains import ActionChains\n",
    "\n",
    "# If you want to open Firefox\n",
    "driver = webdriver.Firefox()\n",
    "\n",
    "# Requested URL\n",
    "driver.get(\"https://www.epicov.org/epi3/frontend#31057c\")\n",
    "\n",
    "# Wait for it to load, otherwise it won't work\n",
    "driver.implicitly_wait(2)\n",
    "\n",
    "# Input username and password\n",
    "username_field = driver.find_element(By.NAME, \"login\")\n",
    "password_field = driver.find_element(By.NAME, \"password\")\n",
    "submit = driver.find_element(By.CLASS_NAME, \"form_button_submit\")\n",
    "username_field.send_keys(username)\n",
    "password_field.send_keys(password)\n",
    "\n",
    "# Wait again, otherwise it won't work\n",
    "driver.implicitly_wait(3)\n",
    "\n",
    "# Press login button to get to GISAID\n",
    "ActionChains(driver).move_to_element(submit).click().perform()"
   ]
  },
  {
   "cell_type": "code",
   "execution_count": null,
   "metadata": {},
   "outputs": [],
   "source": [
    "# Test webscraping with EpiPox since we don't have access to EpiFlu yet \n",
    "\n"
   ]
  },
  {
   "cell_type": "code",
   "execution_count": null,
   "metadata": {},
   "outputs": [],
   "source": []
  }
 ],
 "metadata": {
  "kernelspec": {
   "display_name": "Python 3",
   "language": "python",
   "name": "python3"
  },
  "language_info": {
   "codemirror_mode": {
    "name": "ipython",
    "version": 3
   },
   "file_extension": ".py",
   "mimetype": "text/x-python",
   "name": "python",
   "nbconvert_exporter": "python",
   "pygments_lexer": "ipython3",
   "version": "3.11.5"
  }
 },
 "nbformat": 4,
 "nbformat_minor": 2
}
